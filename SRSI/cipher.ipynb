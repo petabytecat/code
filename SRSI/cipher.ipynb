{
 "cells": [
  {
   "cell_type": "code",
   "execution_count": 93,
   "id": "77776c7a-fe26-4f89-95a9-6016c2cfd8a0",
   "metadata": {},
   "outputs": [
    {
     "data": {
      "text/plain": [
       "'etaoishr'"
      ]
     },
     "execution_count": 93,
     "metadata": {},
     "output_type": "execute_result"
    }
   ],
   "source": [
    "text = \"\"\"pcv gha qmg he mau pcv umr wvbma kxov mar fpcvs pcv nma qvap pf pcv gcfe pf bvp gfnv wsvmu mau nxko m ufb sma wr mau m wxsu jkvq ftvs pcv psvv evfekv qmkovu fa pcv sfmu pmkoxab mwfhp pcv avqg xp qmg afp cfp whp pcv mxs qmg gpxkk cv gmp fa pcv wvadc mau kffovu mp pcv gor pcv emggqfsu xg dsmdoxab\"\"\"\n",
    "\n",
    "\"etaoishr\""
   ]
  },
  {
   "cell_type": "code",
   "execution_count": 94,
   "id": "c5ee5f7f-6cfb-4ad4-b06d-efccce8fdd82",
   "metadata": {},
   "outputs": [
    {
     "data": {
      "text/plain": [
       "'\\ndef next_alpha(s, i):\\n    return chr((ord(s.upper())+i - 65) % 26 + 65)\\n\\nfor i in range(1, 27):\\n    newtext = \"\"\\n    for word in text.split(\" \"):\\n        for let in word:\\n            newtext += next_alpha(let, i)\\n        newtext += \" \"\\n    print(newtext)\\n'"
      ]
     },
     "execution_count": 94,
     "metadata": {},
     "output_type": "execute_result"
    }
   ],
   "source": [
    "\"\"\"\n",
    "def next_alpha(s, i):\n",
    "    return chr((ord(s.upper())+i - 65) % 26 + 65)\n",
    "\n",
    "for i in range(1, 27):\n",
    "    newtext = \"\"\n",
    "    for word in text.split(\" \"):\n",
    "        for let in word:\n",
    "            newtext += next_alpha(let, i)\n",
    "        newtext += \" \"\n",
    "    print(newtext)\n",
    "\"\"\""
   ]
  },
  {
   "cell_type": "code",
   "execution_count": 99,
   "id": "2f265d00-8de2-4c2c-ae6c-ac961547f114",
   "metadata": {},
   "outputs": [],
   "source": [
    "dict = {\n",
    "    \"P\" : \"t\",\n",
    "    \"C\" : \"h\",\n",
    "    \"V\" : \"e\",\n",
    "    \"F\" : \"o\",\n",
    "    \"S\" : \"r\",\n",
    "    \"T\" : \"v\",\n",
    "    \"Q\" : \"w\",\n",
    "    \"G\" : \"s\",\n",
    "    \"K\" : \"l\",\n",
    "    \"M\" : \"a\",\n",
    "    \"U\" : \"d\",\n",
    "    \"H\" : \"u\",\n",
    "    \"E\" : \"p\",\n",
    "    \"A\" : \"n\",\n",
    "    \"X\" : \"i\",\n",
    "    \"R\" : \"y\",\n",
    "    \"W\" : \"b\",\n",
    "    \"B\" : \"g\", \n",
    "    \"D\" : \"c\",\n",
    "    \"O\" : \"k\",\n",
    "    \"N\" : \"m\",\n",
    "    \"J\" : \"f\"\n",
    "}"
   ]
  },
  {
   "cell_type": "code",
   "execution_count": 100,
   "id": "b46c1cb0-7228-4a41-bfd0-f3fe675ae340",
   "metadata": {},
   "outputs": [
    {
     "name": "stdout",
     "output_type": "stream",
     "text": [
      "the sun was up and the day began like any other the man went to the shop to get some bread and milk a dog ran by and a bird flew over the tree people walked on the road talking about the news it was not hot but the air was still he sat on the bench and looked at the sky the password is cracking\n"
     ]
    }
   ],
   "source": [
    "text = text.upper()\n",
    "\n",
    "newtext = \"\"\n",
    "\n",
    "for i in text:\n",
    "    if i in list(dict.keys()):\n",
    "        newtext += dict[i] \n",
    "    else:\n",
    "        newtext += i\n",
    "print(newtext)"
   ]
  },
  {
   "cell_type": "code",
   "execution_count": null,
   "id": "02b3b67f-2076-47db-9efe-58b526bb5030",
   "metadata": {},
   "outputs": [],
   "source": []
  },
  {
   "cell_type": "code",
   "execution_count": null,
   "id": "cfb26c22-cfec-4bf2-8298-10b2fa80f425",
   "metadata": {},
   "outputs": [],
   "source": []
  }
 ],
 "metadata": {
  "kernelspec": {
   "display_name": "Python 3 (ipykernel)",
   "language": "python",
   "name": "python3"
  },
  "language_info": {
   "codemirror_mode": {
    "name": "ipython",
    "version": 3
   },
   "file_extension": ".py",
   "mimetype": "text/x-python",
   "name": "python",
   "nbconvert_exporter": "python",
   "pygments_lexer": "ipython3",
   "version": "3.12.0"
  }
 },
 "nbformat": 4,
 "nbformat_minor": 5
}
