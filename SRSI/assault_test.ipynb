{
 "cells": [
  {
   "cell_type": "code",
   "execution_count": null,
   "id": "647dfaae-3240-4659-b153-77796b227225",
   "metadata": {},
   "outputs": [
    {
     "name": "stderr",
     "output_type": "stream",
     "text": [
      "/Users/dewei.zhang/Desktop/coding/0SRSI/venv/lib/python3.12/site-packages/pygame/pkgdata.py:25: UserWarning: pkg_resources is deprecated as an API. See https://setuptools.pypa.io/en/latest/pkg_resources.html. The pkg_resources package is slated for removal as early as 2025-11-30. Refrain from using this package or pin to Setuptools<81.\n",
      "  from pkg_resources import resource_stream, resource_exists\n"
     ]
    }
   ],
   "source": [
    "import ale_py\n",
    "import numpy as np\n",
    "import pygame\n",
    "import matplotlib.pyplot as plt\n",
    "\n",
    "# Initialize Pygame\n",
    "pygame.init()\n",
    "\n",
    "# Define the path to your ROM file\n",
    "rom_path = r\"D:\\RL\\environments\\assault.bin\"\n",
    "\n",
    "# Create an ALEInterface instance\n",
    "env = ale_py.ALEInterface()\n",
    "\n",
    "# Load the ROM file\n",
    "env.loadROM(rom_path)\n",
    "\n",
    "# Get the number of actions\n",
    "num_actions = env.getLegalActionSet()\n",
    "\n",
    "# Q-learning parameters\n",
    "alpha = 0.2  # learning rate\n",
    "gamma = 0.96  # discount factor\n",
    "epsilon = 1.0  # exploration rate (starting value)\n",
    "epsilon_min = 0.1  # minimum exploration rate\n",
    "epsilon_decay = 0.995  # decay rate for exploration\n",
    "\n",
    "# Screen dimensions\n",
    "SCREEN_WIDTH, SCREEN_HEIGHT = 160, 210  # Assault game screen size\n",
    "\n",
    "# Set up the display\n",
    "screen = pygame.display.set_mode((SCREEN_WIDTH, SCREEN_HEIGHT))\n",
    "pygame.display.set_caption(\"Assault Game\")\n",
    "\n",
    "# Number of epochs\n",
    "epochs = 50\n",
    "\n",
    "# Initialize Q-table\n",
    "q_table = np.zeros((len(num_actions),))\n",
    "\n",
    "# List to store Q-values for plotting\n",
    "q_values = []\n",
    "\n",
    "# Main loop\n",
    "for epoch in range(epochs):\n",
    "    state = env.reset_game()\n",
    "    total_reward = 0\n",
    "\n",
    "    while not env.game_over():\n",
    "        # Get current state\n",
    "        state = env.getScreenRGB()\n",
    "\n",
    "        # Epsilon-greedy policy for action selection\n",
    "        if np.random.rand() < epsilon:\n",
    "            action = np.random.choice(num_actions)\n",
    "        else:\n",
    "            action = np.argmax(q_table)\n",
    "\n",
    "        # Take action and observe reward and next state\n",
    "        reward = env.act(action)\n",
    "        total_reward += reward\n",
    "\n",
    "        # Update Q-value\n",
    "        next_state_max_q_value = np.max(q_table)\n",
    "        q_table[action] += alpha * (reward + gamma * next_state_max_q_value - q_table[action])\n",
    "\n",
    "        # Decay epsilon\n",
    "        epsilon = max(epsilon_min, epsilon * epsilon_decay)\n",
    "\n",
    "    print(\"Epoch:\", epoch + 1, \"Total Reward:\", total_reward)\n",
    "\n",
    "pygame.quit()\n",
    "\n",
    "# Save Q-table\n",
    "np.save('q_table.npy', q_table)\n"
   ]
  },
  {
   "cell_type": "code",
   "execution_count": null,
   "id": "a40fc119-2092-4ed3-9b51-4a13c92e558f",
   "metadata": {},
   "outputs": [],
   "source": []
  }
 ],
 "metadata": {
  "kernelspec": {
   "display_name": "Python 3 (ipykernel)",
   "language": "python",
   "name": "python3"
  },
  "language_info": {
   "codemirror_mode": {
    "name": "ipython",
    "version": 3
   },
   "file_extension": ".py",
   "mimetype": "text/x-python",
   "name": "python",
   "nbconvert_exporter": "python",
   "pygments_lexer": "ipython3",
   "version": "3.12.0"
  }
 },
 "nbformat": 4,
 "nbformat_minor": 5
}
