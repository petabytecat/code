{
  "cells": [
    {
      "cell_type": "code",
      "execution_count": 1,
      "id": "f1c0ff8d-7fd6-4f71-9ec8-8283454cddfc",
      "metadata": {
        "colab": {
          "base_uri": "https://localhost:8080/"
        },
        "id": "f1c0ff8d-7fd6-4f71-9ec8-8283454cddfc",
        "outputId": "87429110-e8b8-484d-e223-7344de931a56"
      },
      "outputs": [
        {
          "output_type": "stream",
          "name": "stdout",
          "text": [
            "Requirement already satisfied: torch in /usr/local/lib/python3.11/dist-packages (2.6.0+cu124)\n",
            "Requirement already satisfied: torchvision in /usr/local/lib/python3.11/dist-packages (0.21.0+cu124)\n",
            "Requirement already satisfied: torchaudio in /usr/local/lib/python3.11/dist-packages (2.6.0+cu124)\n",
            "Requirement already satisfied: filelock in /usr/local/lib/python3.11/dist-packages (from torch) (3.18.0)\n",
            "Requirement already satisfied: typing-extensions>=4.10.0 in /usr/local/lib/python3.11/dist-packages (from torch) (4.14.1)\n",
            "Requirement already satisfied: networkx in /usr/local/lib/python3.11/dist-packages (from torch) (3.5)\n",
            "Requirement already satisfied: jinja2 in /usr/local/lib/python3.11/dist-packages (from torch) (3.1.6)\n",
            "Requirement already satisfied: fsspec in /usr/local/lib/python3.11/dist-packages (from torch) (2025.3.2)\n",
            "Collecting nvidia-cuda-nvrtc-cu12==12.4.127 (from torch)\n",
            "  Downloading nvidia_cuda_nvrtc_cu12-12.4.127-py3-none-manylinux2014_x86_64.whl.metadata (1.5 kB)\n",
            "Collecting nvidia-cuda-runtime-cu12==12.4.127 (from torch)\n",
            "  Downloading nvidia_cuda_runtime_cu12-12.4.127-py3-none-manylinux2014_x86_64.whl.metadata (1.5 kB)\n",
            "Collecting nvidia-cuda-cupti-cu12==12.4.127 (from torch)\n",
            "  Downloading nvidia_cuda_cupti_cu12-12.4.127-py3-none-manylinux2014_x86_64.whl.metadata (1.6 kB)\n",
            "Collecting nvidia-cudnn-cu12==9.1.0.70 (from torch)\n",
            "  Downloading nvidia_cudnn_cu12-9.1.0.70-py3-none-manylinux2014_x86_64.whl.metadata (1.6 kB)\n",
            "Collecting nvidia-cublas-cu12==12.4.5.8 (from torch)\n",
            "  Downloading nvidia_cublas_cu12-12.4.5.8-py3-none-manylinux2014_x86_64.whl.metadata (1.5 kB)\n",
            "Collecting nvidia-cufft-cu12==11.2.1.3 (from torch)\n",
            "  Downloading nvidia_cufft_cu12-11.2.1.3-py3-none-manylinux2014_x86_64.whl.metadata (1.5 kB)\n",
            "Collecting nvidia-curand-cu12==10.3.5.147 (from torch)\n",
            "  Downloading nvidia_curand_cu12-10.3.5.147-py3-none-manylinux2014_x86_64.whl.metadata (1.5 kB)\n",
            "Collecting nvidia-cusolver-cu12==11.6.1.9 (from torch)\n",
            "  Downloading nvidia_cusolver_cu12-11.6.1.9-py3-none-manylinux2014_x86_64.whl.metadata (1.6 kB)\n",
            "Collecting nvidia-cusparse-cu12==12.3.1.170 (from torch)\n",
            "  Downloading nvidia_cusparse_cu12-12.3.1.170-py3-none-manylinux2014_x86_64.whl.metadata (1.6 kB)\n",
            "Requirement already satisfied: nvidia-cusparselt-cu12==0.6.2 in /usr/local/lib/python3.11/dist-packages (from torch) (0.6.2)\n",
            "Requirement already satisfied: nvidia-nccl-cu12==2.21.5 in /usr/local/lib/python3.11/dist-packages (from torch) (2.21.5)\n",
            "Requirement already satisfied: nvidia-nvtx-cu12==12.4.127 in /usr/local/lib/python3.11/dist-packages (from torch) (12.4.127)\n",
            "Collecting nvidia-nvjitlink-cu12==12.4.127 (from torch)\n",
            "  Downloading nvidia_nvjitlink_cu12-12.4.127-py3-none-manylinux2014_x86_64.whl.metadata (1.5 kB)\n",
            "Requirement already satisfied: triton==3.2.0 in /usr/local/lib/python3.11/dist-packages (from torch) (3.2.0)\n",
            "Requirement already satisfied: sympy==1.13.1 in /usr/local/lib/python3.11/dist-packages (from torch) (1.13.1)\n",
            "Requirement already satisfied: mpmath<1.4,>=1.1.0 in /usr/local/lib/python3.11/dist-packages (from sympy==1.13.1->torch) (1.3.0)\n",
            "Requirement already satisfied: numpy in /usr/local/lib/python3.11/dist-packages (from torchvision) (2.0.2)\n",
            "Requirement already satisfied: pillow!=8.3.*,>=5.3.0 in /usr/local/lib/python3.11/dist-packages (from torchvision) (11.2.1)\n",
            "Requirement already satisfied: MarkupSafe>=2.0 in /usr/local/lib/python3.11/dist-packages (from jinja2->torch) (3.0.2)\n",
            "Downloading nvidia_cublas_cu12-12.4.5.8-py3-none-manylinux2014_x86_64.whl (363.4 MB)\n",
            "\u001b[2K   \u001b[90m━━━━━━━━━━━━━━━━━━━━━━━━━━━━━━━━━━━━━━━━\u001b[0m \u001b[32m363.4/363.4 MB\u001b[0m \u001b[31m3.4 MB/s\u001b[0m eta \u001b[36m0:00:00\u001b[0m\n",
            "\u001b[?25hDownloading nvidia_cuda_cupti_cu12-12.4.127-py3-none-manylinux2014_x86_64.whl (13.8 MB)\n",
            "\u001b[2K   \u001b[90m━━━━━━━━━━━━━━━━━━━━━━━━━━━━━━━━━━━━━━━━\u001b[0m \u001b[32m13.8/13.8 MB\u001b[0m \u001b[31m66.1 MB/s\u001b[0m eta \u001b[36m0:00:00\u001b[0m\n",
            "\u001b[?25hDownloading nvidia_cuda_nvrtc_cu12-12.4.127-py3-none-manylinux2014_x86_64.whl (24.6 MB)\n",
            "\u001b[2K   \u001b[90m━━━━━━━━━━━━━━━━━━━━━━━━━━━━━━━━━━━━━━━━\u001b[0m \u001b[32m24.6/24.6 MB\u001b[0m \u001b[31m22.3 MB/s\u001b[0m eta \u001b[36m0:00:00\u001b[0m\n",
            "\u001b[?25hDownloading nvidia_cuda_runtime_cu12-12.4.127-py3-none-manylinux2014_x86_64.whl (883 kB)\n",
            "\u001b[2K   \u001b[90m━━━━━━━━━━━━━━━━━━━━━━━━━━━━━━━━━━━━━━━━\u001b[0m \u001b[32m883.7/883.7 kB\u001b[0m \u001b[31m21.8 MB/s\u001b[0m eta \u001b[36m0:00:00\u001b[0m\n",
            "\u001b[?25hDownloading nvidia_cudnn_cu12-9.1.0.70-py3-none-manylinux2014_x86_64.whl (664.8 MB)\n",
            "\u001b[2K   \u001b[90m━━━━━━━━━━━━━━━━━━━━━━━━━━━━━━━━━━━━━━━━\u001b[0m \u001b[32m664.8/664.8 MB\u001b[0m \u001b[31m3.4 MB/s\u001b[0m eta \u001b[36m0:00:00\u001b[0m\n",
            "\u001b[?25hDownloading nvidia_cufft_cu12-11.2.1.3-py3-none-manylinux2014_x86_64.whl (211.5 MB)\n",
            "\u001b[2K   \u001b[90m━━━━━━━━━━━━━━━━━━━━━━━━━━━━━━━━━━━━━━━━\u001b[0m \u001b[32m211.5/211.5 MB\u001b[0m \u001b[31m6.3 MB/s\u001b[0m eta \u001b[36m0:00:00\u001b[0m\n",
            "\u001b[?25hDownloading nvidia_curand_cu12-10.3.5.147-py3-none-manylinux2014_x86_64.whl (56.3 MB)\n",
            "\u001b[2K   \u001b[90m━━━━━━━━━━━━━━━━━━━━━━━━━━━━━━━━━━━━━━━━\u001b[0m \u001b[32m56.3/56.3 MB\u001b[0m \u001b[31m12.6 MB/s\u001b[0m eta \u001b[36m0:00:00\u001b[0m\n",
            "\u001b[?25hDownloading nvidia_cusolver_cu12-11.6.1.9-py3-none-manylinux2014_x86_64.whl (127.9 MB)\n",
            "\u001b[2K   \u001b[90m━━━━━━━━━━━━━━━━━━━━━━━━━━━━━━━━━━━━━━━━\u001b[0m \u001b[32m127.9/127.9 MB\u001b[0m \u001b[31m7.7 MB/s\u001b[0m eta \u001b[36m0:00:00\u001b[0m\n",
            "\u001b[?25hDownloading nvidia_cusparse_cu12-12.3.1.170-py3-none-manylinux2014_x86_64.whl (207.5 MB)\n",
            "\u001b[2K   \u001b[90m━━━━━━━━━━━━━━━━━━━━━━━━━━━━━━━━━━━━━━━━\u001b[0m \u001b[32m207.5/207.5 MB\u001b[0m \u001b[31m5.9 MB/s\u001b[0m eta \u001b[36m0:00:00\u001b[0m\n",
            "\u001b[?25hDownloading nvidia_nvjitlink_cu12-12.4.127-py3-none-manylinux2014_x86_64.whl (21.1 MB)\n",
            "\u001b[2K   \u001b[90m━━━━━━━━━━━━━━━━━━━━━━━━━━━━━━━━━━━━━━━━\u001b[0m \u001b[32m21.1/21.1 MB\u001b[0m \u001b[31m104.5 MB/s\u001b[0m eta \u001b[36m0:00:00\u001b[0m\n",
            "\u001b[?25hInstalling collected packages: nvidia-nvjitlink-cu12, nvidia-curand-cu12, nvidia-cufft-cu12, nvidia-cuda-runtime-cu12, nvidia-cuda-nvrtc-cu12, nvidia-cuda-cupti-cu12, nvidia-cublas-cu12, nvidia-cusparse-cu12, nvidia-cudnn-cu12, nvidia-cusolver-cu12\n",
            "  Attempting uninstall: nvidia-nvjitlink-cu12\n",
            "    Found existing installation: nvidia-nvjitlink-cu12 12.5.82\n",
            "    Uninstalling nvidia-nvjitlink-cu12-12.5.82:\n",
            "      Successfully uninstalled nvidia-nvjitlink-cu12-12.5.82\n",
            "  Attempting uninstall: nvidia-curand-cu12\n",
            "    Found existing installation: nvidia-curand-cu12 10.3.6.82\n",
            "    Uninstalling nvidia-curand-cu12-10.3.6.82:\n",
            "      Successfully uninstalled nvidia-curand-cu12-10.3.6.82\n",
            "  Attempting uninstall: nvidia-cufft-cu12\n",
            "    Found existing installation: nvidia-cufft-cu12 11.2.3.61\n",
            "    Uninstalling nvidia-cufft-cu12-11.2.3.61:\n",
            "      Successfully uninstalled nvidia-cufft-cu12-11.2.3.61\n",
            "  Attempting uninstall: nvidia-cuda-runtime-cu12\n",
            "    Found existing installation: nvidia-cuda-runtime-cu12 12.5.82\n",
            "    Uninstalling nvidia-cuda-runtime-cu12-12.5.82:\n",
            "      Successfully uninstalled nvidia-cuda-runtime-cu12-12.5.82\n",
            "  Attempting uninstall: nvidia-cuda-nvrtc-cu12\n",
            "    Found existing installation: nvidia-cuda-nvrtc-cu12 12.5.82\n",
            "    Uninstalling nvidia-cuda-nvrtc-cu12-12.5.82:\n",
            "      Successfully uninstalled nvidia-cuda-nvrtc-cu12-12.5.82\n",
            "  Attempting uninstall: nvidia-cuda-cupti-cu12\n",
            "    Found existing installation: nvidia-cuda-cupti-cu12 12.5.82\n",
            "    Uninstalling nvidia-cuda-cupti-cu12-12.5.82:\n",
            "      Successfully uninstalled nvidia-cuda-cupti-cu12-12.5.82\n",
            "  Attempting uninstall: nvidia-cublas-cu12\n",
            "    Found existing installation: nvidia-cublas-cu12 12.5.3.2\n",
            "    Uninstalling nvidia-cublas-cu12-12.5.3.2:\n",
            "      Successfully uninstalled nvidia-cublas-cu12-12.5.3.2\n",
            "  Attempting uninstall: nvidia-cusparse-cu12\n",
            "    Found existing installation: nvidia-cusparse-cu12 12.5.1.3\n",
            "    Uninstalling nvidia-cusparse-cu12-12.5.1.3:\n",
            "      Successfully uninstalled nvidia-cusparse-cu12-12.5.1.3\n",
            "  Attempting uninstall: nvidia-cudnn-cu12\n",
            "    Found existing installation: nvidia-cudnn-cu12 9.3.0.75\n",
            "    Uninstalling nvidia-cudnn-cu12-9.3.0.75:\n",
            "      Successfully uninstalled nvidia-cudnn-cu12-9.3.0.75\n",
            "  Attempting uninstall: nvidia-cusolver-cu12\n",
            "    Found existing installation: nvidia-cusolver-cu12 11.6.3.83\n",
            "    Uninstalling nvidia-cusolver-cu12-11.6.3.83:\n",
            "      Successfully uninstalled nvidia-cusolver-cu12-11.6.3.83\n",
            "Successfully installed nvidia-cublas-cu12-12.4.5.8 nvidia-cuda-cupti-cu12-12.4.127 nvidia-cuda-nvrtc-cu12-12.4.127 nvidia-cuda-runtime-cu12-12.4.127 nvidia-cudnn-cu12-9.1.0.70 nvidia-cufft-cu12-11.2.1.3 nvidia-curand-cu12-10.3.5.147 nvidia-cusolver-cu12-11.6.1.9 nvidia-cusparse-cu12-12.3.1.170 nvidia-nvjitlink-cu12-12.4.127\n",
            "Requirement already satisfied: ale_py in /usr/local/lib/python3.11/dist-packages (0.11.1)\n",
            "Requirement already satisfied: gymnasium in /usr/local/lib/python3.11/dist-packages (1.2.0)\n",
            "Requirement already satisfied: numpy>1.20 in /usr/local/lib/python3.11/dist-packages (from ale_py) (2.0.2)\n",
            "Requirement already satisfied: cloudpickle>=1.2.0 in /usr/local/lib/python3.11/dist-packages (from gymnasium) (3.1.1)\n",
            "Requirement already satisfied: typing-extensions>=4.3.0 in /usr/local/lib/python3.11/dist-packages (from gymnasium) (4.14.1)\n",
            "Requirement already satisfied: farama-notifications>=0.0.1 in /usr/local/lib/python3.11/dist-packages (from gymnasium) (0.0.4)\n",
            "Requirement already satisfied: opencv-python in /usr/local/lib/python3.11/dist-packages (4.11.0.86)\n",
            "Requirement already satisfied: numpy>=1.21.2 in /usr/local/lib/python3.11/dist-packages (from opencv-python) (2.0.2)\n",
            "Collecting pympler\n",
            "  Downloading Pympler-1.1-py3-none-any.whl.metadata (3.6 kB)\n",
            "Downloading Pympler-1.1-py3-none-any.whl (165 kB)\n",
            "\u001b[2K   \u001b[90m━━━━━━━━━━━━━━━━━━━━━━━━━━━━━━━━━━━━━━━━\u001b[0m \u001b[32m165.8/165.8 kB\u001b[0m \u001b[31m3.3 MB/s\u001b[0m eta \u001b[36m0:00:00\u001b[0m\n",
            "\u001b[?25hInstalling collected packages: pympler\n",
            "Successfully installed pympler-1.1\n"
          ]
        }
      ],
      "source": [
        "!pip3 install torch torchvision torchaudio\n",
        "!pip3 install ale_py gymnasium\n",
        "!pip3 install opencv-python\n",
        "!pip3 install pympler"
      ]
    },
    {
      "cell_type": "code",
      "execution_count": 2,
      "id": "2cd0292b-3f06-49aa-81df-26dbceb4f2de",
      "metadata": {
        "id": "2cd0292b-3f06-49aa-81df-26dbceb4f2de"
      },
      "outputs": [],
      "source": [
        "import os\n",
        "from collections import defaultdict\n",
        "from collections import deque\n",
        "import random\n",
        "import sys\n",
        "from pympler import asizeof\n",
        "import gc\n",
        "\n",
        "import matplotlib.pyplot as plt\n",
        "import pandas as pd\n",
        "import seaborn as sns\n",
        "from matplotlib.patches import Patch\n",
        "import numpy as np\n",
        "import cv2\n",
        "\n",
        "import ale_py\n",
        "import gymnasium as gym\n",
        "\n",
        "import torch\n",
        "import torch.nn.functional as F\n",
        "from torch import nn, optim\n",
        "from torch.utils.data import DataLoader\n",
        "\n",
        "import torchvision\n",
        "import torchvision.datasets as datasets\n",
        "import torchvision.transforms as transforms\n",
        "\n",
        "from tqdm import tqdm\n",
        "\n",
        "gym.register_envs(ale_py)\n",
        "\n",
        "env = gym.make(\"ALE/Pong-v5\")"
      ]
    },
    {
      "cell_type": "code",
      "execution_count": null,
      "id": "ff8480e4-8f64-4edb-9ebc-ccf0d59d1825",
      "metadata": {
        "id": "ff8480e4-8f64-4edb-9ebc-ccf0d59d1825"
      },
      "outputs": [],
      "source": [
        "device = torch.device(\"cuda\" if torch.cuda.is_available() else \"cpu\")\n",
        "print(f\"Using device: {device}\")\n",
        "\n",
        "# ===== CONFIGURABLE PARAMETERS =====\n",
        "# Image cropping parameters - adjust these as needed\n",
        "CROP_TOP = 34      # Pixels to crop from top\n",
        "CROP_BOTTOM = 16    # Pixels to crop from bottom\n",
        "CROP_LEFT = 0       # Pixels to crop from left\n",
        "CROP_RIGHT = 0      # Pixels to crop from right\n",
        "RESIZE_WIDTH = 84   # Final width after resizing\n",
        "RESIZE_HEIGHT = 84  # Final height after resizing\n",
        "\n",
        "# Training hyperparameters\n",
        "LEARNING_RATE = 0.01\n",
        "N_EPISODES = 300\n",
        "START_EPSILON = 1.0\n",
        "FINAL_EPSILON = 0.1\n",
        "EPSILON_DECAY = (START_EPSILON - FINAL_EPSILON) / N_EPISODES\n",
        "DISCOUNT_FACTOR = 0.99\n",
        "MEMORY_CAPACITY = 25000\n",
        "MEMORY_FILL_SIZE = 10000\n",
        "MINIBATCH_SIZE = 128\n",
        "TARGET_UPDATE_FREQ = 10000\n",
        "MAX_STEPS_PER_EPISODE = 5000\n",
        "TOTAL_STEPS = N_EPISODES * MAX_STEPS_PER_EPISODE\n",
        "REWARD_CLIP = True  # Clip rewards to [-1, 1]\n",
        "MODEL_FILE = \"dqn_pong\"\n",
        "LOAD_MODEL =  False # \"dqn_pong_best.pth\" else False\n",
        "# ==================================="
      ]
    },
    {
      "cell_type": "code",
      "execution_count": 11,
      "id": "ce1583a4-ed90-4577-b3a7-9ee535065f3c",
      "metadata": {
        "id": "ce1583a4-ed90-4577-b3a7-9ee535065f3c"
      },
      "outputs": [],
      "source": [
        "# preprocessing image\n",
        "\n",
        "\n",
        "# preprocess image demonstration\n",
        "\"\"\"\n",
        "def preprocess_and_show_steps(obs):  # input: 210x160x3 RGB\n",
        "    fig, axs = plt.subplots(1, 4, figsize=(18, 5))\n",
        "\n",
        "    # Step 1: Show original RGB image\n",
        "    axs[0].imshow(obs)\n",
        "    axs[0].set_title(\"Original RGB (210x160)\")\n",
        "    axs[0].axis('off')\n",
        "\n",
        "    # Step 2: Convert to grayscale\n",
        "    greyscaled = np.dot(obs[..., :3], [0.299, 0.587, 0.114]).astype(np.uint8)\n",
        "    axs[1].imshow(greyscaled, cmap='gray')\n",
        "    axs[1].set_title(\"Grayscale\")\n",
        "    axs[1].axis('off')\n",
        "\n",
        "    # Step 3: Crop image vertically (rows 95 to 195)\n",
        "    cropped = greyscaled[95:195, :]\n",
        "    axs[2].imshow(cropped, cmap='gray')\n",
        "    axs[2].set_title(\"Cropped (95:195)\")\n",
        "    axs[2].axis('off')\n",
        "\n",
        "    # Step 4: Resize to 100x50 using nearest neighbor\n",
        "    resized = cv2.resize(cropped, dsize=(50, 25), interpolation=cv2.INTER_NEAREST)\n",
        "    axs[3].imshow(resized, cmap='gray')\n",
        "    axs[3].set_title(\"Resized to 100x50\")\n",
        "    axs[3].axis('off')\n",
        "\n",
        "    plt.tight_layout()\n",
        "    plt.show()\n",
        "\n",
        "    return resized\n",
        "\n",
        "# Run and visualize preprocessing steps\n",
        "obs, info = env.reset()\n",
        "processed = preprocess_and_show_steps(obs)\n",
        "\"\"\"\n",
        "\n",
        "def preprocess(obs,\n",
        "               crop_top=CROP_TOP,\n",
        "               crop_bottom=CROP_BOTTOM,\n",
        "               crop_left=CROP_LEFT,\n",
        "               crop_right=CROP_RIGHT,\n",
        "               resize_width=RESIZE_WIDTH,\n",
        "               resize_height=RESIZE_HEIGHT):\n",
        "    # Convert to grayscale\n",
        "    if len(obs.shape) == 3 and obs.shape[2] == 3:\n",
        "        greyscaled = np.dot(obs[..., :3], [0.299, 0.587, 0.114])\n",
        "    else:\n",
        "        greyscaled = obs\n",
        "\n",
        "    # Get image dimensions\n",
        "    height, width = greyscaled.shape\n",
        "\n",
        "    # Calculate crop boundaries\n",
        "    top_bound = crop_top\n",
        "    bottom_bound = height - crop_bottom\n",
        "    left_bound = crop_left\n",
        "    right_bound = width - crop_right\n",
        "\n",
        "    # Perform cropping\n",
        "    cropped = greyscaled[top_bound:bottom_bound, left_bound:right_bound]\n",
        "\n",
        "    # Resize\n",
        "    resized = cv2.resize(cropped, (resize_width, resize_height),\n",
        "                         interpolation=cv2.INTER_NEAREST)\n",
        "\n",
        "    return resized\n"
      ]
    },
    {
      "cell_type": "code",
      "execution_count": 12,
      "id": "a2e43133-51f5-48e5-b925-c3118fa97bba",
      "metadata": {
        "id": "a2e43133-51f5-48e5-b925-c3118fa97bba"
      },
      "outputs": [],
      "source": [
        "# defining neural network\n",
        "# based on this architecture: https://arxiv.org/pdf/1312.5602\n",
        "# code written by Claude Sonnet 4\n",
        "\n",
        "class DQN(nn.Module):\n",
        "    def __init__(self, num_actions, in_channels=4):\n",
        "        super(DQN, self).__init__()\n",
        "\n",
        "        # Convolutional layers (standard DQN architecture)\n",
        "        self.conv1 = nn.Conv2d(in_channels, 32, kernel_size=8, stride=4)\n",
        "        self.conv2 = nn.Conv2d(32, 64, kernel_size=4, stride=2)\n",
        "        self.conv3 = nn.Conv2d(64, 64, kernel_size=3, stride=1)\n",
        "\n",
        "        # Dynamically calculate linear layer size\n",
        "        with torch.no_grad():\n",
        "            dummy = torch.zeros(1, in_channels, RESIZE_HEIGHT, RESIZE_WIDTH)\n",
        "            dummy = F.relu(self.conv1(dummy))\n",
        "            dummy = F.relu(self.conv2(dummy))\n",
        "            dummy = F.relu(self.conv3(dummy))\n",
        "            self.linear_size = dummy.view(1, -1).size(1)\n",
        "\n",
        "        self.fc1 = nn.Linear(self.linear_size, 512)\n",
        "        self.fc2 = nn.Linear(512, num_actions)\n",
        "\n",
        "    def forward(self, x):\n",
        "        x = F.relu(self.conv1(x))\n",
        "        x = F.relu(self.conv2(x))\n",
        "        x = F.relu(self.conv3(x))\n",
        "        x = x.view(x.size(0), -1)  # Flatten\n",
        "        x = F.relu(self.fc1(x))\n",
        "        return self.fc2(x)\n",
        "\n",
        "# example input: batch of 32 preprocessed frames\n",
        "# batch_size = 32\n",
        "# input_tensor = torch.randn(batch_size, 4, 25, 50) # Corrected input shape\n",
        "\n",
        "# forward pass\n",
        "# model = DQN(env.action_space.n)\n",
        "# q_values = model(input_tensor)\n",
        "# print(f\"Input shape: {input_tensor.shape}\")\n",
        "# print(f\"Output Q-values shape: {q_values.shape}\")"
      ]
    },
    {
      "cell_type": "code",
      "execution_count": 13,
      "id": "a6eed2ab-d219-41f0-a80d-9b11b4608d48",
      "metadata": {
        "id": "a6eed2ab-d219-41f0-a80d-9b11b4608d48"
      },
      "outputs": [],
      "source": [
        "class ReplayMemory:\n",
        "    def __init__(self, capacity, state_shape):\n",
        "        self.capacity = capacity\n",
        "        self.state_shape = state_shape\n",
        "        # Pre-allocate contiguous arrays\n",
        "        self.states = np.zeros((capacity, *state_shape), dtype=np.uint8)\n",
        "        self.next_states = np.zeros((capacity, *state_shape), dtype=np.uint8)\n",
        "        self.actions = np.zeros(capacity, dtype=np.int32)\n",
        "        self.rewards = np.zeros(capacity, dtype=np.float16)  # Reduce precision\n",
        "        self.dones = np.zeros(capacity, dtype=np.bool_)\n",
        "        self.position = 0\n",
        "        self.size = 0\n",
        "\n",
        "    def push(self, state, action, reward, next_state, done):\n",
        "        self.states[self.position] = state\n",
        "        self.next_states[self.position] = next_state\n",
        "        self.actions[self.position] = action\n",
        "        self.rewards[self.position] = reward\n",
        "        self.dones[self.position] = done\n",
        "\n",
        "        self.position = (self.position + 1) % self.capacity\n",
        "        self.size = min(self.size + 1, self.capacity)\n",
        "\n",
        "    def sample(self, batch_size):\n",
        "        indices = np.random.choice(self.size, batch_size, replace=False)\n",
        "        return (\n",
        "            self.states[indices],\n",
        "            self.actions[indices],\n",
        "            self.rewards[indices],\n",
        "            self.next_states[indices],\n",
        "            self.dones[indices]\n",
        "        )\n",
        "\n",
        "    def __len__(self):\n",
        "        return self.size\n",
        "\n",
        "    def memory_usage_gb(self):\n",
        "        total_bytes = (self.states.nbytes + self.next_states.nbytes +\n",
        "                       self.actions.nbytes + self.rewards.nbytes +\n",
        "                       self.dones.nbytes)\n",
        "        return total_bytes / (1024 ** 3)\n"
      ]
    },
    {
      "cell_type": "code",
      "execution_count": 14,
      "id": "98a28015-3e2b-4656-ab05-1d8fc7de1b8d",
      "metadata": {
        "colab": {
          "base_uri": "https://localhost:8080/",
          "height": 508
        },
        "id": "98a28015-3e2b-4656-ab05-1d8fc7de1b8d",
        "outputId": "0f9a2ce9-d402-43dc-ed44-e5be8ef41422"
      },
      "outputs": [
        {
          "output_type": "display_data",
          "data": {
            "text/plain": [
              "<Figure size 640x480 with 1 Axes>"
            ],
            "image/png": "[encoded data removed]"
          },
          "metadata": {}
        },
        {
          "output_type": "stream",
          "name": "stdout",
          "text": [
            "Pre-filling replay memory...\n"
          ]
        },
        {
          "output_type": "stream",
          "name": "stderr",
          "text": [
            "Pre-filling replay memory: 100%|██████████| 10000/10000 [00:20<00:00, 494.16it/s]\n"
          ]
        }
      ],
      "source": [
        "# Initialize replay memory\n",
        "state_shape = (4, RESIZE_HEIGHT, RESIZE_WIDTH)\n",
        "replay_memory = ReplayMemory(MEMORY_CAPACITY, state_shape)\n",
        "\n",
        "# Reset environment and initialize frame stack\n",
        "obs, info = env.reset()\n",
        "frame = preprocess(obs)\n",
        "\n",
        "# Visualize the first preprocessed frame\n",
        "plt.imshow(frame, cmap='gray')\n",
        "plt.title(f\"Preprocessed Frame\\nSize: {frame.shape} | Crop: T:{CROP_TOP} B:{CROP_BOTTOM} L:{CROP_LEFT} R:{CROP_RIGHT}\")\n",
        "plt.show()\n",
        "\n",
        "frame_stack = deque(maxlen=4)\n",
        "for _ in range(4):\n",
        "    frame_stack.append(frame)\n",
        "state = np.stack(frame_stack, axis=0)\n",
        "\n",
        "# Pre-fill replay memory\n",
        "print(\"Pre-filling replay memory...\")\n",
        "for _ in tqdm(range(MEMORY_FILL_SIZE), desc=\"Pre-filling replay memory\"):\n",
        "    action = env.action_space.sample()\n",
        "    next_obs, reward, done, truncated, info = env.step(action)\n",
        "\n",
        "    # Clip reward if enabled\n",
        "    if REWARD_CLIP:\n",
        "        reward = np.clip(reward, -1, 1)\n",
        "\n",
        "    next_frame = preprocess(next_obs)\n",
        "    frame_stack.append(next_frame)\n",
        "    next_state = np.stack(frame_stack, axis=0)\n",
        "\n",
        "    replay_memory.push(state, action, reward, next_state, done)\n",
        "    state = next_state\n",
        "\n",
        "    if done or truncated:\n",
        "        obs, info = env.reset()\n",
        "        frame = preprocess(obs)\n",
        "        frame_stack.clear()\n",
        "        for _ in range(4):\n",
        "            frame_stack.append(frame)\n",
        "        state = np.stack(frame_stack, axis=0)\n",
        "\n"
      ]
    },
    {
      "cell_type": "code",
      "execution_count": 15,
      "id": "2c3c758e-22bb-4167-9c0e-35f6421bfa90",
      "metadata": {
        "id": "2c3c758e-22bb-4167-9c0e-35f6421bfa90"
      },
      "outputs": [],
      "source": [
        "# Initialize networks\n",
        "online_net = DQN(env.action_space.n).to(device)\n",
        "target_net = DQN(env.action_space.n).to(device)\n",
        "target_net.load_state_dict(online_net.state_dict())\n",
        "target_net.eval()\n",
        "\n",
        "# === Load saved weights to continue training ===\n",
        "if LOAD_MODEL:\n",
        "    online_net.load_state_dict(torch.load(f\"{LOAD_MODEL}\", map_location=device))\n",
        "    target_net.load_state_dict(online_net.state_dict())\n",
        "\n",
        "# Optimizer\n",
        "optimizer = optim.RMSprop(\n",
        "    online_net.parameters(),\n",
        "    lr=LEARNING_RATE,\n",
        "    alpha=0.95,\n",
        "    momentum=0.95,\n",
        "    eps=0.01\n",
        ")"
      ]
    },
    {
      "cell_type": "code",
      "execution_count": 16,
      "id": "02b411e4-0dde-4d89-955c-693665cb02ec",
      "metadata": {
        "id": "02b411e4-0dde-4d89-955c-693665cb02ec"
      },
      "outputs": [],
      "source": [
        "# Agent class\n",
        "class Agent:\n",
        "    def __init__(self, env, initial_epsilon, epsilon_decay, final_epsilon, discount_factor):\n",
        "        self.env = env\n",
        "        self.epsilon = initial_epsilon\n",
        "        self.epsilon_decay = epsilon_decay\n",
        "        self.final_epsilon = final_epsilon\n",
        "        self.discount_factor = discount_factor\n",
        "\n",
        "    def get_action(self, state, model):\n",
        "        if np.random.random() < self.epsilon:\n",
        "            return self.env.action_space.sample()\n",
        "        else:\n",
        "            state_tensor = torch.tensor(state, dtype=torch.float32, device=device).unsqueeze(0) / 255.0\n",
        "            with torch.no_grad():\n",
        "                q_values = model(state_tensor)\n",
        "            return q_values.argmax().item()\n",
        "\n",
        "    def decay_epsilon(self):\n",
        "        self.epsilon = max(self.final_epsilon, self.epsilon - self.epsilon_decay)"
      ]
    },
    {
      "cell_type": "code",
      "source": [
        "# Initialize agent\n",
        "agent = Agent(\n",
        "    env=env,\n",
        "    initial_epsilon=START_EPSILON,\n",
        "    epsilon_decay=EPSILON_DECAY,\n",
        "    final_epsilon=FINAL_EPSILON,\n",
        "    discount_factor=DISCOUNT_FACTOR,\n",
        ")\n",
        "\n",
        "# Training loop\n",
        "total_steps = 0\n",
        "episode_rewards = []\n",
        "episode_losses = []\n",
        "episode_steps = []\n",
        "best_reward = -float('inf')"
      ],
      "metadata": {
        "id": "TlcGYNZGyQKT"
      },
      "id": "TlcGYNZGyQKT",
      "execution_count": 17,
      "outputs": []
    },
    {
      "cell_type": "code",
      "execution_count": null,
      "id": "65d7df2a-991d-415c-b592-4a42af931bb9",
      "metadata": {
        "colab": {
          "base_uri": "https://localhost:8080/"
        },
        "id": "65d7df2a-991d-415c-b592-4a42af931bb9",
        "outputId": "2117a086-3558-48ed-ef95-d24b676d44b9"
      },
      "outputs": [
        {
          "output_type": "stream",
          "name": "stdout",
          "text": [
            "Starting training...\n"
          ]
        },
        {
          "output_type": "stream",
          "name": "stderr",
          "text": [
            "Training episodes:   0%|          | 1/300 [00:08<43:36,  8.75s/it]"
          ]
        },
        {
          "output_type": "stream",
          "name": "stdout",
          "text": [
            "Episode 0: Reward=-18.00, Avg Reward (10)=-18.00, Steps=1419, Avg Steps (10)=1404, Epsilon=0.5545, Loss=0.0057, ReplayMemory size=1.314445 GB, Online net=0.000018 GB, Offline net=0.000018 GB\n"
          ]
        },
        {
          "output_type": "stream",
          "name": "stderr",
          "text": [
            "Training episodes:   4%|▎         | 11/300 [01:27<41:09,  8.54s/it]"
          ]
        },
        {
          "output_type": "stream",
          "name": "stdout",
          "text": [
            "Episode 10: Reward=-17.00, Avg Reward (10)=-19.40, Steps=1672, Avg Steps (10)=1260, Epsilon=0.5455, Loss=0.0056, ReplayMemory size=1.314445 GB, Online net=0.000018 GB, Offline net=0.000018 GB\n"
          ]
        },
        {
          "output_type": "stream",
          "name": "stderr",
          "text": [
            "Training episodes:   7%|▋         | 21/300 [02:58<39:54,  8.58s/it]"
          ]
        },
        {
          "output_type": "stream",
          "name": "stdout",
          "text": [
            "Episode 20: Reward=-18.00, Avg Reward (10)=-17.60, Steps=1282, Avg Steps (10)=1467, Epsilon=0.5365, Loss=0.0086, ReplayMemory size=1.314445 GB, Online net=0.000018 GB, Offline net=0.000018 GB\n"
          ]
        },
        {
          "output_type": "stream",
          "name": "stderr",
          "text": [
            "Training episodes:  10%|█         | 31/300 [04:34<44:01,  9.82s/it]"
          ]
        },
        {
          "output_type": "stream",
          "name": "stdout",
          "text": [
            "Episode 30: Reward=-18.00, Avg Reward (10)=-18.60, Steps=1372, Avg Steps (10)=1528, Epsilon=0.5275, Loss=0.0064, ReplayMemory size=1.314445 GB, Online net=0.000018 GB, Offline net=0.000018 GB\n"
          ]
        },
        {
          "output_type": "stream",
          "name": "stderr",
          "text": [
            "Training episodes:  14%|█▎        | 41/300 [06:04<33:15,  7.71s/it]"
          ]
        },
        {
          "output_type": "stream",
          "name": "stdout",
          "text": [
            "Episode 40: Reward=-20.00, Avg Reward (10)=-18.60, Steps=1032, Avg Steps (10)=1465, Epsilon=0.5185, Loss=0.0075, ReplayMemory size=1.314445 GB, Online net=0.000018 GB, Offline net=0.000018 GB\n"
          ]
        },
        {
          "output_type": "stream",
          "name": "stderr",
          "text": [
            "Training episodes:  17%|█▋        | 51/300 [07:36<34:06,  8.22s/it]"
          ]
        },
        {
          "output_type": "stream",
          "name": "stdout",
          "text": [
            "Episode 50: Reward=-19.00, Avg Reward (10)=-18.60, Steps=1180, Avg Steps (10)=1488, Epsilon=0.5095, Loss=0.0054, ReplayMemory size=1.314445 GB, Online net=0.000018 GB, Offline net=0.000018 GB\n"
          ]
        },
        {
          "output_type": "stream",
          "name": "stderr",
          "text": [
            "Training episodes:  19%|█▊        | 56/300 [08:22<36:16,  8.92s/it]"
          ]
        }
      ],
      "source": [
        "print(\"Starting training...\")\n",
        "for episode in tqdm(range(N_EPISODES), desc=\"Training episodes\"):\n",
        "    steps = 0\n",
        "    obs, info = env.reset()\n",
        "    frame = preprocess(obs)\n",
        "\n",
        "    frame_stack = deque(maxlen=4)\n",
        "    for _ in range(4):\n",
        "        frame_stack.append(frame)\n",
        "    state = np.stack(frame_stack, axis=0)\n",
        "\n",
        "    done = False\n",
        "    truncated = False\n",
        "    episode_reward = 0\n",
        "    step_losses = []\n",
        "\n",
        "    while not (done or truncated) and steps < MAX_STEPS_PER_EPISODE:\n",
        "        steps += 1\n",
        "        action = agent.get_action(state, online_net)\n",
        "        next_obs, reward, done, truncated, info = env.step(action)\n",
        "\n",
        "        # Clip reward if enabled\n",
        "        if REWARD_CLIP:\n",
        "            reward = np.clip(reward, -10, 10)\n",
        "\n",
        "        episode_reward += reward\n",
        "\n",
        "        next_frame = preprocess(next_obs)\n",
        "        frame_stack.append(next_frame)\n",
        "        next_state = np.stack(frame_stack, axis=0)\n",
        "\n",
        "        replay_memory.push(state, action, reward, next_state, done)\n",
        "        state = next_state\n",
        "\n",
        "        # Update model if we have enough samples\n",
        "        if len(replay_memory) > MINIBATCH_SIZE and total_steps % 4 == 0:\n",
        "            batch_data = replay_memory.sample(MINIBATCH_SIZE)\n",
        "            states, actions, rewards, next_states, dones = batch_data\n",
        "\n",
        "            # Convert to tensors (reuse variables)\n",
        "            states_tensor = torch.tensor(states, dtype=torch.float32, device=device) / 255.0\n",
        "            next_states_tensor = torch.tensor(next_states, dtype=torch.float32, device=device) / 255.0\n",
        "            actions_tensor = torch.tensor(actions, dtype=torch.long, device=device)\n",
        "            rewards_tensor = torch.tensor(rewards, dtype=torch.float32, device=device)\n",
        "            dones_tensor = torch.tensor(dones, dtype=torch.float32, device=device)\n",
        "\n",
        "            # Compute Q-values\n",
        "            current_q = online_net(states_tensor).gather(1, actions_tensor.unsqueeze(1)).squeeze(1)\n",
        "\n",
        "            # Compute target Q-values\n",
        "            with torch.no_grad():\n",
        "                next_q = target_net(next_states_tensor).max(1)[0]\n",
        "                target_q = rewards_tensor + DISCOUNT_FACTOR * next_q * (1 - dones_tensor)\n",
        "\n",
        "            # Compute loss\n",
        "            loss = F.mse_loss(current_q, target_q)\n",
        "            step_losses.append(loss.item())\n",
        "\n",
        "            # Optimize\n",
        "            optimizer.zero_grad()\n",
        "            loss.backward()\n",
        "\n",
        "            # Gradient clipping\n",
        "            for param in online_net.parameters():\n",
        "                if param.grad is not None:\n",
        "                    param.grad.data.clamp_(-1, 1)\n",
        "\n",
        "            optimizer.step()\n",
        "            del states_tensor, next_states_tensor, actions_tensor, rewards_tensor, dones_tensor\n",
        "\n",
        "        # Update target network\n",
        "        total_steps += 1\n",
        "        if total_steps % TARGET_UPDATE_FREQ == 0:\n",
        "            target_net.load_state_dict(online_net.state_dict())\n",
        "        if total_steps % 500 == 0:  # Clear cache periodically\n",
        "            torch.cuda.empty_cache()\n",
        "            gc.collect()\n",
        "\n",
        "    # Decay epsilon\n",
        "    agent.decay_epsilon()\n",
        "\n",
        "    # Record metrics\n",
        "    episode_rewards.append(episode_reward)\n",
        "    if step_losses:\n",
        "        avg_loss = sum(step_losses) / len(step_losses)\n",
        "        episode_losses.append(avg_loss)\n",
        "    else:\n",
        "        episode_losses.append(0)\n",
        "    episode_steps.append(steps)\n",
        "\n",
        "    # Save best model\n",
        "    if episode_reward > best_reward:\n",
        "        best_reward = episode_reward\n",
        "        torch.save(online_net.state_dict(), f\"{MODEL_FILE}_best.pth\")\n",
        "\n",
        "    if episode % 10 == 0:\n",
        "        avg_reward = np.mean(episode_rewards[-10:]) if len(episode_rewards) >= 10 else np.mean(episode_rewards)\n",
        "        avg_steps = np.mean(episode_steps[-10:]) if len(episode_steps) >= 10 else np.mean(episode_steps)\n",
        "        mem_usage = replay_memory.memory_usage_gb()\n",
        "\n",
        "        print(f\"Episode {episode}: Reward={episode_reward:.2f}, \"\n",
        "              f\"Avg Reward (10)={avg_reward:.2f}, \"\n",
        "              f\"Steps={steps}, Avg Steps (10)={avg_steps:.0f}, \"\n",
        "              f\"Epsilon={agent.epsilon:.4f}, \"\n",
        "              f\"Loss={episode_losses[-1]:.4f}, \"\n",
        "              f\"ReplayMemory size={mem_usage:.6f} GB, \"\n",
        "              f\"Online net={asizeof.asizeof(online_net)/ (1024 ** 3):.6f} GB, \"\n",
        "              f\"Offline net={asizeof.asizeof(target_net)/ (1024 ** 3):.6f} GB\")\n",
        "\n",
        "# Save final model\n",
        "torch.save(online_net.state_dict(), f\"{MODEL_FILE}_final.pth\")\n",
        "print(\"Training complete. Models saved.\")"
      ]
    },
    {
      "cell_type": "code",
      "execution_count": null,
      "id": "ed0997e2-f9ee-4517-9786-8d63ac852139",
      "metadata": {
        "id": "ed0997e2-f9ee-4517-9786-8d63ac852139"
      },
      "outputs": [],
      "source": [
        "# Plot results\n",
        "plt.figure(figsize=(18, 5))\n",
        "\n",
        "# Plot rewards\n",
        "plt.subplot(1, 3, 1)\n",
        "plt.plot(episode_rewards)\n",
        "plt.title(\"Episode Rewards\")\n",
        "plt.xlabel(\"Episode\")\n",
        "plt.ylabel(\"Total Reward\")\n",
        "\n",
        "# Plot loss\n",
        "plt.subplot(1, 3, 2)\n",
        "plt.plot(episode_losses)\n",
        "plt.title(\"Training Loss\")\n",
        "plt.xlabel(\"Episode\")\n",
        "plt.ylabel(\"Average Loss\")\n",
        "\n",
        "# Plot steps\n",
        "plt.subplot(1, 3, 3)\n",
        "plt.plot(episode_steps)\n",
        "plt.title(\"Episode Steps\")\n",
        "plt.xlabel(\"Episode\")\n",
        "plt.ylabel(\"Steps Taken\")\n",
        "\n",
        "plt.tight_layout()\n",
        "plt.savefig(\"training_results.png\")\n",
        "plt.show()\n"
      ]
    },
    {
      "cell_type": "code",
      "source": [],
      "metadata": {
        "id": "gKX-Po44dKsa"
      },
      "id": "gKX-Po44dKsa",
      "execution_count": null,
      "outputs": []
    }
  ],
  "metadata": {
    "kernelspec": {
      "display_name": "Python 3",
      "name": "python3"
    },
    "language_info": {
      "codemirror_mode": {
        "name": "ipython",
        "version": 3
      },
      "file_extension": ".py",
      "mimetype": "text/x-python",
      "name": "python",
      "nbconvert_exporter": "python",
      "pygments_lexer": "ipython3",
      "version": "3.12.0"
    },
    "colab": {
      "provenance": [],
      "gpuType": "T4"
    },
    "accelerator": "GPU"
  },
  "nbformat": 4,
  "nbformat_minor": 5
}